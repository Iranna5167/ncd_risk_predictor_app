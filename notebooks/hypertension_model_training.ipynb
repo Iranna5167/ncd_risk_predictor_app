{
 "cells": [
  {
   "cell_type": "code",
   "execution_count": 1,
   "id": "340e73a3",
   "metadata": {},
   "outputs": [
    {
     "name": "stdout",
     "output_type": "stream",
     "text": [
      "Libraries imported and dataset loaded successfully for hypertension model.\n",
      "Initial dataset shape: (100000, 9)\n"
     ]
    }
   ],
   "source": [
    "import pandas as pd\n",
    "import numpy as np\n",
    "from sklearn.model_selection import train_test_split\n",
    "from sklearn.preprocessing import StandardScaler, OneHotEncoder\n",
    "from sklearn.compose import ColumnTransformer\n",
    "from sklearn.pipeline import Pipeline\n",
    "from sklearn.ensemble import RandomForestClassifier # Our chosen ML model\n",
    "from sklearn.metrics import accuracy_score, precision_score, recall_score, f1_score, roc_auc_score, confusion_matrix, classification_report\n",
    "import matplotlib.pyplot as plt\n",
    "import seaborn as sns\n",
    "import joblib # For saving the trained model later\n",
    "\n",
    "# --- Load the dataset ---\n",
    "# This dataset contains both diabetes and hypertension info\n",
    "file_path = '../data/raw/diabetes_prediction_dataset.csv'\n",
    "health_df = pd.read_csv(file_path) # Renaming df to 'health_df' as it covers more\n",
    "\n",
    "print(\"Libraries imported and dataset loaded successfully for hypertension model.\")\n",
    "print(f\"Initial dataset shape: {health_df.shape}\")"
   ]
  },
  {
   "cell_type": "code",
   "execution_count": 2,
   "id": "2f6b449f",
   "metadata": {},
   "outputs": [
    {
     "name": "stdout",
     "output_type": "stream",
     "text": [
      "Target variable for Hypertension: hypertension\n",
      "Numerical features for Hypertension model: ['age', 'heart_disease', 'bmi', 'HbA1c_level', 'blood_glucose_level']\n",
      "Categorical features for Hypertension model: ['gender', 'smoking_history']\n"
     ]
    }
   ],
   "source": [
    "# Identify the NEW target variable: 'hypertension'\n",
    "target_hypertension = 'hypertension'\n",
    "\n",
    "# Identify features (all columns except the new target and the old 'diabetes' target for clarity)\n",
    "# We explicitly drop 'diabetes' to focus purely on hypertension prediction here.\n",
    "features_hypertension = health_df.drop(columns=[target_hypertension, 'diabetes'])\n",
    "\n",
    "# Separate numerical and categorical features for different preprocessing\n",
    "# These lists will be slightly different from before, as 'hypertension' and 'diabetes' are now out.\n",
    "numerical_features_h = features_hypertension.select_dtypes(include=np.number).columns.tolist()\n",
    "categorical_features_h = features_hypertension.select_dtypes(include='object').columns.tolist()\n",
    "\n",
    "print(f\"Target variable for Hypertension: {target_hypertension}\")\n",
    "print(f\"Numerical features for Hypertension model: {numerical_features_h}\")\n",
    "print(f\"Categorical features for Hypertension model: {categorical_features_h}\")"
   ]
  },
  {
   "cell_type": "code",
   "execution_count": 3,
   "id": "80a8492d",
   "metadata": {},
   "outputs": [
    {
     "name": "stdout",
     "output_type": "stream",
     "text": [
      "Preprocessing transformers defined for hypertension model.\n"
     ]
    }
   ],
   "source": [
    "# Create preprocessing pipeline for numerical features: just scaling\n",
    "numerical_transformer_h = Pipeline(steps=[\n",
    "    ('scaler', StandardScaler())\n",
    "])\n",
    "\n",
    "# Create preprocessing pipeline for categorical features: one-hot encoding\n",
    "categorical_transformer_h = Pipeline(steps=[\n",
    "    ('onehot', OneHotEncoder(handle_unknown='ignore'))\n",
    "])\n",
    "\n",
    "# Create a preprocessor using ColumnTransformer\n",
    "preprocessor_h = ColumnTransformer(\n",
    "    transformers=[\n",
    "        ('num', numerical_transformer_h, numerical_features_h),\n",
    "        ('cat', categorical_transformer_h, categorical_features_h)\n",
    "    ])\n",
    "\n",
    "print(\"Preprocessing transformers defined for hypertension model.\")"
   ]
  },
  {
   "cell_type": "code",
   "execution_count": 4,
   "id": "546553a2",
   "metadata": {},
   "outputs": [
    {
     "name": "stdout",
     "output_type": "stream",
     "text": [
      "Data split into training and testing sets for Hypertension:\n",
      "X_train_h shape: (80000, 7)\n",
      "X_test_h shape: (20000, 7)\n",
      "y_train_h distribution:\n",
      "hypertension\n",
      "0    0.92515\n",
      "1    0.07485\n",
      "Name: proportion, dtype: float64\n",
      "y_test_h distribution:\n",
      "hypertension\n",
      "0    0.92515\n",
      "1    0.07485\n",
      "Name: proportion, dtype: float64\n"
     ]
    }
   ],
   "source": [
    "# Separate features (X) and target (y) for hypertension\n",
    "X_h = health_df.drop(columns=[target_hypertension, 'diabetes'])\n",
    "y_h = health_df[target_hypertension]\n",
    "\n",
    "# Split the data into training and testing sets for hypertension\n",
    "# Stratify by y_h because hypertension might also be imbalanced\n",
    "X_train_h, X_test_h, y_train_h, y_test_h = train_test_split(X_h, y_h, test_size=0.20, random_state=42, stratify=y_h)\n",
    "\n",
    "print(f\"Data split into training and testing sets for Hypertension:\")\n",
    "print(f\"X_train_h shape: {X_train_h.shape}\")\n",
    "print(f\"X_test_h shape: {X_test_h.shape}\")\n",
    "print(f\"y_train_h distribution:\\n{y_train_h.value_counts(normalize=True)}\")\n",
    "print(f\"y_test_h distribution:\\n{y_test_h.value_counts(normalize=True)}\")"
   ]
  },
  {
   "cell_type": "code",
   "execution_count": 5,
   "id": "46e6d48a",
   "metadata": {},
   "outputs": [
    {
     "name": "stdout",
     "output_type": "stream",
     "text": [
      "Training the hypertension model pipeline...\n",
      "Hypertension model training completed.\n"
     ]
    }
   ],
   "source": [
    "# Create the full pipeline: Preprocessing + Classifier for Hypertension\n",
    "model_pipeline_h = Pipeline(steps=[\n",
    "    ('preprocessor', preprocessor_h),\n",
    "    ('classifier', RandomForestClassifier(random_state=42)) # Using RandomForest again for consistency\n",
    "])\n",
    "\n",
    "print(\"Training the hypertension model pipeline...\")\n",
    "# Train the pipeline on the training data\n",
    "model_pipeline_h.fit(X_train_h, y_train_h)\n",
    "\n",
    "print(\"Hypertension model training completed.\")"
   ]
  },
  {
   "cell_type": "code",
   "execution_count": 6,
   "id": "d24fcc8a",
   "metadata": {},
   "outputs": [
    {
     "name": "stdout",
     "output_type": "stream",
     "text": [
      "Predictions made on the hypertension test set.\n"
     ]
    }
   ],
   "source": [
    "# Make predictions on the test set for hypertension\n",
    "y_pred_h = model_pipeline_h.predict(X_test_h)\n",
    "\n",
    "# Get prediction probabilities for the positive class (hypertension=1)\n",
    "y_pred_proba_h = model_pipeline_h.predict_proba(X_test_h)[:, 1]\n",
    "\n",
    "print(\"Predictions made on the hypertension test set.\")"
   ]
  },
  {
   "cell_type": "code",
   "execution_count": 7,
   "id": "e0dad33f",
   "metadata": {},
   "outputs": [
    {
     "name": "stdout",
     "output_type": "stream",
     "text": [
      "\n",
      "Hypertension Model Classification Report:\n",
      "              precision    recall  f1-score   support\n",
      "\n",
      "           0       0.93      0.99      0.96     18503\n",
      "           1       0.19      0.03      0.05      1497\n",
      "\n",
      "    accuracy                           0.92     20000\n",
      "   macro avg       0.56      0.51      0.50     20000\n",
      "weighted avg       0.87      0.92      0.89     20000\n",
      "\n",
      "\n",
      "Hypertension Model Confusion Matrix:\n",
      "[[18325   178]\n",
      " [ 1454    43]]\n"
     ]
    },
    {
     "data": {
      "image/png": "[encoded data removed]",
      "text/plain": [
       "<Figure size 600x400 with 1 Axes>"
      ]
     },
     "metadata": {},
     "output_type": "display_data"
    },
    {
     "name": "stdout",
     "output_type": "stream",
     "text": [
      "\n",
      "--- Hypertension Model Performance Metrics ---\n",
      "Accuracy: 0.9184\n",
      "Precision (Class 1): 0.1946\n",
      "Recall (Class 1): 0.0287\n",
      "F1-Score (Class 1): 0.0501\n",
      "ROC AUC Score: 0.7747\n",
      "\n",
      "Remember to interpret metrics for Class 1 (Hypertension) carefully due to potential imbalance.\n"
     ]
    }
   ],
   "source": [
    "# --- Classification Report ---\n",
    "print(\"\\nHypertension Model Classification Report:\")\n",
    "print(classification_report(y_test_h, y_pred_h))\n",
    "\n",
    "# --- Confusion Matrix ---\n",
    "cm_h = confusion_matrix(y_test_h, y_pred_h)\n",
    "print(\"\\nHypertension Model Confusion Matrix:\")\n",
    "print(cm_h)\n",
    "\n",
    "# Visualize Confusion Matrix\n",
    "plt.figure(figsize=(6, 4))\n",
    "sns.heatmap(cm_h, annot=True, fmt='d', cmap='Blues', cbar=False,\n",
    "            xticklabels=['Predicted 0 (No Hyper.)', 'Predicted 1 (Hyper.)'],\n",
    "            yticklabels=['Actual 0 (No Hyper.)', 'Actual 1 (Hyper.)'])\n",
    "plt.title('Hypertension Model Confusion Matrix')\n",
    "plt.ylabel('Actual Label')\n",
    "plt.xlabel('Predicted Label')\n",
    "plt.show()\n",
    "\n",
    "# --- Key Metrics ---\n",
    "accuracy_h = accuracy_score(y_test_h, y_pred_h)\n",
    "precision_h = precision_score(y_test_h, y_pred_h)\n",
    "recall_h = recall_score(y_test_h, y_pred_h)\n",
    "f1_h = f1_score(y_test_h, y_pred_h)\n",
    "roc_auc_h = roc_auc_score(y_test_h, y_pred_proba_h)\n",
    "\n",
    "print(f\"\\n--- Hypertension Model Performance Metrics ---\")\n",
    "print(f\"Accuracy: {accuracy_h:.4f}\")\n",
    "print(f\"Precision (Class 1): {precision_h:.4f}\")\n",
    "print(f\"Recall (Class 1): {recall_h:.4f}\")\n",
    "print(f\"F1-Score (Class 1): {f1_h:.4f}\")\n",
    "print(f\"ROC AUC Score: {roc_auc_h:.4f}\")\n",
    "\n",
    "print(\"\\nRemember to interpret metrics for Class 1 (Hypertension) carefully due to potential imbalance.\")"
   ]
  },
  {
   "cell_type": "code",
   "execution_count": 8,
   "id": "6c528d26",
   "metadata": {},
   "outputs": [
    {
     "name": "stdout",
     "output_type": "stream",
     "text": [
      "\n",
      "Top 10 Feature Importances for Hypertension Model:\n",
      "bmi                        0.328873\n",
      "age                        0.256007\n",
      "blood_glucose_level        0.179401\n",
      "HbA1c_level                0.174732\n",
      "heart_disease              0.013510\n",
      "smoking_history_No Info    0.008160\n",
      "smoking_history_never      0.007046\n",
      "smoking_history_former     0.006346\n",
      "gender_Female              0.005900\n",
      "gender_Male                0.005892\n",
      "dtype: float64\n"
     ]
    },
    {
     "name": "stderr",
     "output_type": "stream",
     "text": [
      "C:\\Users\\irann\\AppData\\Local\\Temp\\ipykernel_7240\\2207578138.py:16: FutureWarning: \n",
      "\n",
      "Passing `palette` without assigning `hue` is deprecated and will be removed in v0.14.0. Assign the `y` variable to `hue` and set `legend=False` for the same effect.\n",
      "\n",
      "  sns.barplot(x=feature_importances_h.head(10).values, y=feature_importances_h.head(10).index, palette='viridis')\n"
     ]
    },
    {
     "data": {
      "image/png": "[encoded data removed]",
      "text/plain": [
       "<Figure size 1000x600 with 1 Axes>"
      ]
     },
     "metadata": {},
     "output_type": "display_data"
    }
   ],
   "source": [
    "# --- Feature Importance for Hypertension Model ---\n",
    "if hasattr(model_pipeline_h.named_steps['classifier'], 'feature_importances_'):\n",
    "    ohe_h = model_pipeline_h.named_steps['preprocessor'].named_transformers_['cat'].named_steps['onehot']\n",
    "    categorical_feature_names_h = ohe_h.get_feature_names_out(categorical_features_h)\n",
    "\n",
    "    all_feature_names_h = numerical_features_h + list(categorical_feature_names_h)\n",
    "\n",
    "    importances_h = model_pipeline_h.named_steps['classifier'].feature_importances_\n",
    "    feature_importances_h = pd.Series(importances_h, index=all_feature_names_h).sort_values(ascending=False)\n",
    "\n",
    "    print(\"\\nTop 10 Feature Importances for Hypertension Model:\")\n",
    "    print(feature_importances_h.head(10))\n",
    "\n",
    "    # Visualize feature importances\n",
    "    plt.figure(figsize=(10, 6))\n",
    "    sns.barplot(x=feature_importances_h.head(10).values, y=feature_importances_h.head(10).index, palette='viridis')\n",
    "    plt.title('Top 10 Feature Importances in Hypertension Prediction Model')\n",
    "    plt.xlabel('Importance')\n",
    "    plt.ylabel('Feature')\n",
    "    plt.show()\n",
    "else:\n",
    "    print(\"\\nClassifier for hypertension model does not have 'feature_importances_'.\")"
   ]
  },
  {
   "cell_type": "code",
   "execution_count": 9,
   "id": "2bb168eb",
   "metadata": {},
   "outputs": [
    {
     "name": "stdout",
     "output_type": "stream",
     "text": [
      "Trained hypertension model pipeline and feature lists saved to 'models/' folder.\n"
     ]
    }
   ],
   "source": [
    "# Save the trained hypertension model pipeline\n",
    "joblib.dump(model_pipeline_h, '../models/hypertension_risk_model_pipeline.pkl')\n",
    "\n",
    "# Save the lists of numerical and categorical features for the hypertension model\n",
    "joblib.dump(numerical_features_h, '../models/numerical_features_h.pkl')\n",
    "joblib.dump(categorical_features_h, '../models/categorical_features_h.pkl')\n",
    "\n",
    "print(\"Trained hypertension model pipeline and feature lists saved to 'models/' folder.\")"
   ]
  },
  {
   "cell_type": "code",
   "execution_count": null,
   "id": "6b7f0f05",
   "metadata": {},
   "outputs": [],
   "source": []
  },
  {
   "cell_type": "code",
   "execution_count": null,
   "id": "a8a866f7",
   "metadata": {},
   "outputs": [],
   "source": []
  }
 ],
 "metadata": {
  "kernelspec": {
   "display_name": ".venv",
   "language": "python",
   "name": "python3"
  },
  "language_info": {
   "codemirror_mode": {
    "name": "ipython",
    "version": 3
   },
   "file_extension": ".py",
   "mimetype": "text/x-python",
   "name": "python",
   "nbconvert_exporter": "python",
   "pygments_lexer": "ipython3",
   "version": "3.13.5"
  }
 },
 "nbformat": 4,
 "nbformat_minor": 5
}
